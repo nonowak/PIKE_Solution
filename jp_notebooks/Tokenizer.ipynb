{
 "cells": [
  {
   "cell_type": "code",
   "execution_count": 92,
   "metadata": {},
   "outputs": [
    {
     "name": "stdout",
     "output_type": "stream",
     "text": [
      "The autoreload extension is already loaded. To reload it, use:\n",
      "  %reload_ext autoreload\n"
     ]
    }
   ],
   "source": [
    "%load_ext autoreload\n",
    "%autoreload 2"
   ]
  },
  {
   "cell_type": "code",
   "execution_count": 91,
   "metadata": {},
   "outputs": [],
   "source": [
    "import pandas as pd\n",
    "from collections import Counter\n",
    "import nltk\n",
    "import time\n",
    "from tqdm import tqdm_notebook\n",
    "import numpy"
   ]
  },
  {
   "cell_type": "code",
   "execution_count": 86,
   "metadata": {},
   "outputs": [
    {
     "name": "stderr",
     "output_type": "stream",
     "text": [
      "INFO:root:Working\n"
     ]
    }
   ],
   "source": [
    "import logging\n",
    "logger = logging.getLogger()\n",
    "logger.setLevel(logging.INFO)\n",
    "logger.info('Working')"
   ]
  },
  {
   "cell_type": "code",
   "execution_count": 64,
   "metadata": {},
   "outputs": [],
   "source": [
    "_DATA_FILEPATH = '../data/dataninja2019_ads_train.csv'\n",
    "_POLISH_STOPWORDS_FILEPATH = \"../src/polish_stopwords.txt\"\n",
    "_TOKENIZER_FILEPATH = '../src/dataNinjaTokenizer.txt'"
   ]
  },
  {
   "cell_type": "code",
   "execution_count": 9,
   "metadata": {},
   "outputs": [],
   "source": [
    "df = pd.read_csv(_DATA_FILEPATH)"
   ]
  },
  {
   "cell_type": "code",
   "execution_count": 4,
   "metadata": {
    "collapsed": true
   },
   "outputs": [
    {
     "data": {
      "text/html": [
       "<div>\n",
       "<style scoped>\n",
       "    .dataframe tbody tr th:only-of-type {\n",
       "        vertical-align: middle;\n",
       "    }\n",
       "\n",
       "    .dataframe tbody tr th {\n",
       "        vertical-align: top;\n",
       "    }\n",
       "\n",
       "    .dataframe thead th {\n",
       "        text-align: right;\n",
       "    }\n",
       "</style>\n",
       "<table border=\"1\" class=\"dataframe\">\n",
       "  <thead>\n",
       "    <tr style=\"text-align: right;\">\n",
       "      <th></th>\n",
       "      <th>id</th>\n",
       "      <th>title</th>\n",
       "      <th>description</th>\n",
       "      <th>category_id</th>\n",
       "      <th>region_id</th>\n",
       "      <th>subregion_id</th>\n",
       "      <th>city_id</th>\n",
       "      <th>district_id</th>\n",
       "      <th>params</th>\n",
       "      <th>created_at</th>\n",
       "      <th>labels</th>\n",
       "    </tr>\n",
       "  </thead>\n",
       "  <tbody>\n",
       "    <tr>\n",
       "      <th>0</th>\n",
       "      <td>1432081133</td>\n",
       "      <td>GLIKOL Płyn Chłodniczy Koncentrat Centra. Ogrz...</td>\n",
       "      <td>Nawiąże współpracę z odbiorcami płynów eksploa...</td>\n",
       "      <td>168</td>\n",
       "      <td>13</td>\n",
       "      <td>88</td>\n",
       "      <td>1104129800</td>\n",
       "      <td>NaN</td>\n",
       "      <td>NaN</td>\n",
       "      <td>2012-05-20 23:26:34</td>\n",
       "      <td>glikol_koncentrat wspolpraca koncentrat_do_chl...</td>\n",
       "    </tr>\n",
       "    <tr>\n",
       "      <th>1</th>\n",
       "      <td>671872279</td>\n",
       "      <td>Instalacje Gazowe/Przyłącza Gazowe/Sieci gazow...</td>\n",
       "      <td>BARTES świadczy usługi w obejmujące budowę pro...</td>\n",
       "      <td>306</td>\n",
       "      <td>7</td>\n",
       "      <td>136</td>\n",
       "      <td>284937915</td>\n",
       "      <td>1.285174e+09</td>\n",
       "      <td>NaN</td>\n",
       "      <td>2012-06-28 09:00:20</td>\n",
       "      <td>kuchnia_gazowa gazowe przylacza_gazowe przylac...</td>\n",
       "    </tr>\n",
       "    <tr>\n",
       "      <th>2</th>\n",
       "      <td>778099925</td>\n",
       "      <td>Elegancki kuferek drewniany + 5 palet na 2 zł ...</td>\n",
       "      <td>Kuferek drewniany z paletami na 200 monet 2 zł...</td>\n",
       "      <td>431</td>\n",
       "      <td>11</td>\n",
       "      <td>260</td>\n",
       "      <td>405646303</td>\n",
       "      <td>6.764402e+07</td>\n",
       "      <td>price&lt;=&gt;price&lt;br&gt;price&lt;=&gt;120</td>\n",
       "      <td>2012-07-09 07:40:37</td>\n",
       "      <td>palety_drewniane</td>\n",
       "    </tr>\n",
       "    <tr>\n",
       "      <th>3</th>\n",
       "      <td>1610095002</td>\n",
       "      <td>Remont łazienki, remont mieszkania, domów, lok...</td>\n",
       "      <td>DROBNE I KOMPLEKSOWE REMONTY MIESZKAŃ , BIUR ,...</td>\n",
       "      <td>306</td>\n",
       "      <td>6</td>\n",
       "      <td>48</td>\n",
       "      <td>689879597</td>\n",
       "      <td>8.987401e+08</td>\n",
       "      <td>NaN</td>\n",
       "      <td>2012-06-27 03:55:33</td>\n",
       "      <td>remont_mieszkania remont_lazienki budowa_domow</td>\n",
       "    </tr>\n",
       "    <tr>\n",
       "      <th>4</th>\n",
       "      <td>1884757810</td>\n",
       "      <td>Karcher Profesjonalne Pranie i czyszczenie, oz...</td>\n",
       "      <td>SAMOCHODY (osobowe, dostawcze, ciężarowe, przy...</td>\n",
       "      <td>354</td>\n",
       "      <td>1</td>\n",
       "      <td>259</td>\n",
       "      <td>1797088492</td>\n",
       "      <td>NaN</td>\n",
       "      <td>NaN</td>\n",
       "      <td>2012-07-04 14:43:56</td>\n",
       "      <td>karcher ozonowanie czyszczenie</td>\n",
       "    </tr>\n",
       "  </tbody>\n",
       "</table>\n",
       "</div>"
      ],
      "text/plain": [
       "           id                                              title  \\\n",
       "0  1432081133  GLIKOL Płyn Chłodniczy Koncentrat Centra. Ogrz...   \n",
       "1   671872279  Instalacje Gazowe/Przyłącza Gazowe/Sieci gazow...   \n",
       "2   778099925  Elegancki kuferek drewniany + 5 palet na 2 zł ...   \n",
       "3  1610095002  Remont łazienki, remont mieszkania, domów, lok...   \n",
       "4  1884757810  Karcher Profesjonalne Pranie i czyszczenie, oz...   \n",
       "\n",
       "                                         description  category_id  region_id  \\\n",
       "0  Nawiąże współpracę z odbiorcami płynów eksploa...          168         13   \n",
       "1  BARTES świadczy usługi w obejmujące budowę pro...          306          7   \n",
       "2  Kuferek drewniany z paletami na 200 monet 2 zł...          431         11   \n",
       "3  DROBNE I KOMPLEKSOWE REMONTY MIESZKAŃ , BIUR ,...          306          6   \n",
       "4  SAMOCHODY (osobowe, dostawcze, ciężarowe, przy...          354          1   \n",
       "\n",
       "   subregion_id     city_id   district_id                        params  \\\n",
       "0            88  1104129800           NaN                           NaN   \n",
       "1           136   284937915  1.285174e+09                           NaN   \n",
       "2           260   405646303  6.764402e+07  price<=>price<br>price<=>120   \n",
       "3            48   689879597  8.987401e+08                           NaN   \n",
       "4           259  1797088492           NaN                           NaN   \n",
       "\n",
       "            created_at                                             labels  \n",
       "0  2012-05-20 23:26:34  glikol_koncentrat wspolpraca koncentrat_do_chl...  \n",
       "1  2012-06-28 09:00:20  kuchnia_gazowa gazowe przylacza_gazowe przylac...  \n",
       "2  2012-07-09 07:40:37                                   palety_drewniane  \n",
       "3  2012-06-27 03:55:33     remont_mieszkania remont_lazienki budowa_domow  \n",
       "4  2012-07-04 14:43:56                     karcher ozonowanie czyszczenie  "
      ]
     },
     "execution_count": 4,
     "metadata": {},
     "output_type": "execute_result"
    }
   ],
   "source": [
    "df.head()"
   ]
  },
  {
   "cell_type": "code",
   "execution_count": 139,
   "metadata": {},
   "outputs": [],
   "source": [
    "class DataNinjaTokenizer:\n",
    "    stopwords = open(_POLISH_STOPWORDS_FILEPATH).read().split(\"\\n\")\n",
    "    \n",
    "    def __init__(self, series=None, data_frame=None, headers=None):\n",
    "        start = time.time()\n",
    "        assert not (series is None and data_frame is None), \"Cannot parse both series and data_frame\"\n",
    "        logger.info('Preparing vocabulary')\n",
    "        if(series is not None):\n",
    "            self.__vocabulary = {}\n",
    "            self.__vocabulary['series'] = self.parse_series_into_words(series)\n",
    "        if(data_frame is not None):\n",
    "            assert headers is not None, \"Headers are required to tokenize data_frame\"\n",
    "            self.__vocabulary = {}\n",
    "            for header in headers:\n",
    "                logger.info('\\tProcessing: %s', header)\n",
    "                if header in self.__vocabulary:\n",
    "                    self.__vocabulary[header] = self.__vocabulary[header] + self.parse_series_into_words(data_frame[header])\n",
    "                else:\n",
    "                    self.__vocabulary[header] = self.parse_series_into_words(data_frame[header])\n",
    "        assert self.__vocabulary is not None, \"Vocabulary cannot be none\"\n",
    "        logger.info('Preparing vocabulary ints')\n",
    "        self.prepare_vocabulary_ints()\n",
    "        logger.info('Done in: %0.2f', (time.time() - start))\n",
    "    \n",
    "    def parse_series_into_words(self, series):\n",
    "        words = tqdm_notebook(nltk.word_tokenize(self.series_into_string(series), language=\"polish\"), desc='Word tokenization:')\n",
    "        words = tqdm_notebook([word for word in words if word.isalpha() and word.lower() not in self.stopwords], desc='Remove alpha and stopwords:')\n",
    "        return [word.lower() for word in words]\n",
    "    \n",
    "    def series_into_string(self, series):\n",
    "        return ' '.join([row for row in tqdm_notebook(series, desc='Series to string concatenation:')])\n",
    "                \n",
    "    def prepare_vocabulary_ints(self):\n",
    "        self.__vocabulary_ints = {tup:i for i, tup in enumerate(set(self.vocabulary()))}\n",
    "            \n",
    "    def vocabulary_frequency(self, headers = None):\n",
    "        if headers is None:\n",
    "            return Counter(self.vocabulary())\n",
    "        else:    \n",
    "            return {k: Counter(v) for k,v in self.__vocabulary.items() if k in headers }\n",
    "            \n",
    "    def vocabulary(self, headers = None):\n",
    "        if headers is None:\n",
    "            return [val for vals in self.__vocabulary.values() for val in vals]\n",
    "        else:\n",
    "            return {k: v for k, v in self.__vocabulary.items() if k in headers}\n",
    "    \n",
    "    @property\n",
    "    def vocabulary_ints(self):   \n",
    "        #save to file\n",
    "        return self.__vocabulary_ints"
   ]
  },
  {
   "cell_type": "code",
   "execution_count": null,
   "metadata": {},
   "outputs": [],
   "source": [
    "temp = DataNinjaTokenizer(series=df['title'][:5])"
   ]
  },
  {
   "cell_type": "code",
   "execution_count": 192,
   "metadata": {
    "collapsed": true
   },
   "outputs": [
    {
     "data": {
      "text/plain": [
       "[('x', 4),\n",
       " ('kuferek', 3),\n",
       " ('koncentrat', 2),\n",
       " ('drewniany', 2),\n",
       " ('palet', 2),\n",
       " ('remont', 2),\n",
       " ('lokali', 2),\n",
       " ('pranie', 2),\n",
       " ('czyszczenie', 2),\n",
       " ('gazowych', 2),\n",
       " ('wymiar', 2),\n",
       " ('mm', 2),\n",
       " ('glikol', 1),\n",
       " ('płyn', 1),\n",
       " ('chłodniczy', 1),\n",
       " ('centra', 1),\n",
       " ('ogrzew', 1),\n",
       " ('solar', 1),\n",
       " ('pc', 1),\n",
       " ('chłodnica', 1),\n",
       " ('instalacje', 1),\n",
       " ('elegancki', 1),\n",
       " ('ng', 1),\n",
       " ('kaplsach', 1),\n",
       " ('łazienki', 1),\n",
       " ('mieszkania', 1),\n",
       " ('domów', 1),\n",
       " ('klatek', 1),\n",
       " ('schodowych', 1),\n",
       " ('karcher', 1)]"
      ]
     },
     "execution_count": 192,
     "metadata": {},
     "output_type": "execute_result"
    }
   ],
   "source": [
    "temp.vocabulary_frequency().most_common(30)"
   ]
  },
  {
   "cell_type": "code",
   "execution_count": 184,
   "metadata": {
    "collapsed": true
   },
   "outputs": [
    {
     "data": {
      "text/plain": [
       "['glikol',\n",
       " 'płyn',\n",
       " 'chłodniczy',\n",
       " 'koncentrat',\n",
       " 'centra',\n",
       " 'ogrzew',\n",
       " 'solar',\n",
       " 'pc',\n",
       " 'chłodnica',\n",
       " 'instalacje',\n",
       " 'elegancki',\n",
       " 'kuferek',\n",
       " 'drewniany',\n",
       " 'palet',\n",
       " 'ng',\n",
       " 'kaplsach',\n",
       " 'remont',\n",
       " 'łazienki',\n",
       " 'remont',\n",
       " 'mieszkania',\n",
       " 'domów',\n",
       " 'lokali',\n",
       " 'klatek',\n",
       " 'schodowych',\n",
       " 'karcher',\n",
       " 'profesjonalne',\n",
       " 'pranie',\n",
       " 'czyszczenie',\n",
       " 'ozonowanie']"
      ]
     },
     "execution_count": 184,
     "metadata": {},
     "output_type": "execute_result"
    }
   ],
   "source": [
    "temp.vocabulary()"
   ]
  },
  {
   "cell_type": "code",
   "execution_count": 140,
   "metadata": {},
   "outputs": [
    {
     "name": "stderr",
     "output_type": "stream",
     "text": [
      "INFO:root:Preparing vocabulary\n",
      "INFO:root:\tProcessing: title\n"
     ]
    },
    {
     "data": {
      "application/vnd.jupyter.widget-view+json": {
       "model_id": "376b63f44a654c458ff088e812084239",
       "version_major": 2,
       "version_minor": 0
      },
      "text/html": [
       "<p>Failed to display Jupyter Widget of type <code>HBox</code>.</p>\n",
       "<p>\n",
       "  If you're reading this message in Jupyter Notebook or JupyterLab, it may mean\n",
       "  that the widgets JavaScript is still loading. If this message persists, it\n",
       "  likely means that the widgets JavaScript library is either not installed or\n",
       "  not enabled. See the <a href=\"https://ipywidgets.readthedocs.io/en/stable/user_install.html\">Jupyter\n",
       "  Widgets Documentation</a> for setup instructions.\n",
       "</p>\n",
       "<p>\n",
       "  If you're reading this message in another notebook frontend (for example, a static\n",
       "  rendering on GitHub or <a href=\"https://nbviewer.jupyter.org/\">NBViewer</a>),\n",
       "  it may mean that your frontend doesn't currently support widgets.\n",
       "</p>\n"
      ],
      "text/plain": [
       "HBox(children=(IntProgress(value=0, description='Series to string concatenation:', max=200000, style=ProgressStyle(description_width='initial')), HTML(value='')))"
      ]
     },
     "metadata": {},
     "output_type": "display_data"
    },
    {
     "data": {
      "application/vnd.jupyter.widget-view+json": {
       "model_id": "73e888d9a04a4334ba25f3470f9a698e",
       "version_major": 2,
       "version_minor": 0
      },
      "text/html": [
       "<p>Failed to display Jupyter Widget of type <code>HBox</code>.</p>\n",
       "<p>\n",
       "  If you're reading this message in Jupyter Notebook or JupyterLab, it may mean\n",
       "  that the widgets JavaScript is still loading. If this message persists, it\n",
       "  likely means that the widgets JavaScript library is either not installed or\n",
       "  not enabled. See the <a href=\"https://ipywidgets.readthedocs.io/en/stable/user_install.html\">Jupyter\n",
       "  Widgets Documentation</a> for setup instructions.\n",
       "</p>\n",
       "<p>\n",
       "  If you're reading this message in another notebook frontend (for example, a static\n",
       "  rendering on GitHub or <a href=\"https://nbviewer.jupyter.org/\">NBViewer</a>),\n",
       "  it may mean that your frontend doesn't currently support widgets.\n",
       "</p>\n"
      ],
      "text/plain": [
       "HBox(children=(IntProgress(value=0, description='Word tokenization:', max=1310022, style=ProgressStyle(description_width='initial')), HTML(value='')))"
      ]
     },
     "metadata": {},
     "output_type": "display_data"
    },
    {
     "data": {
      "application/vnd.jupyter.widget-view+json": {
       "model_id": "b0bb2db48d98471781b93ecc64f8541e",
       "version_major": 2,
       "version_minor": 0
      },
      "text/html": [
       "<p>Failed to display Jupyter Widget of type <code>HBox</code>.</p>\n",
       "<p>\n",
       "  If you're reading this message in Jupyter Notebook or JupyterLab, it may mean\n",
       "  that the widgets JavaScript is still loading. If this message persists, it\n",
       "  likely means that the widgets JavaScript library is either not installed or\n",
       "  not enabled. See the <a href=\"https://ipywidgets.readthedocs.io/en/stable/user_install.html\">Jupyter\n",
       "  Widgets Documentation</a> for setup instructions.\n",
       "</p>\n",
       "<p>\n",
       "  If you're reading this message in another notebook frontend (for example, a static\n",
       "  rendering on GitHub or <a href=\"https://nbviewer.jupyter.org/\">NBViewer</a>),\n",
       "  it may mean that your frontend doesn't currently support widgets.\n",
       "</p>\n"
      ],
      "text/plain": [
       "HBox(children=(IntProgress(value=0, description='Remove alpha and stopwords:', max=888628, style=ProgressStyle(description_width='initial')), HTML(value='')))"
      ]
     },
     "metadata": {},
     "output_type": "display_data"
    },
    {
     "name": "stderr",
     "output_type": "stream",
     "text": [
      "INFO:root:\tProcessing: description\n"
     ]
    },
    {
     "data": {
      "application/vnd.jupyter.widget-view+json": {
       "model_id": "7ecea6e63ec14655bd12ef9aece7536d",
       "version_major": 2,
       "version_minor": 0
      },
      "text/html": [
       "<p>Failed to display Jupyter Widget of type <code>HBox</code>.</p>\n",
       "<p>\n",
       "  If you're reading this message in Jupyter Notebook or JupyterLab, it may mean\n",
       "  that the widgets JavaScript is still loading. If this message persists, it\n",
       "  likely means that the widgets JavaScript library is either not installed or\n",
       "  not enabled. See the <a href=\"https://ipywidgets.readthedocs.io/en/stable/user_install.html\">Jupyter\n",
       "  Widgets Documentation</a> for setup instructions.\n",
       "</p>\n",
       "<p>\n",
       "  If you're reading this message in another notebook frontend (for example, a static\n",
       "  rendering on GitHub or <a href=\"https://nbviewer.jupyter.org/\">NBViewer</a>),\n",
       "  it may mean that your frontend doesn't currently support widgets.\n",
       "</p>\n"
      ],
      "text/plain": [
       "HBox(children=(IntProgress(value=0, description='Series to string concatenation:', max=200000, style=ProgressStyle(description_width='initial')), HTML(value='')))"
      ]
     },
     "metadata": {},
     "output_type": "display_data"
    },
    {
     "data": {
      "application/vnd.jupyter.widget-view+json": {
       "model_id": "eacbf78711b048d78b2b2901056a285f",
       "version_major": 2,
       "version_minor": 0
      },
      "text/html": [
       "<p>Failed to display Jupyter Widget of type <code>HBox</code>.</p>\n",
       "<p>\n",
       "  If you're reading this message in Jupyter Notebook or JupyterLab, it may mean\n",
       "  that the widgets JavaScript is still loading. If this message persists, it\n",
       "  likely means that the widgets JavaScript library is either not installed or\n",
       "  not enabled. See the <a href=\"https://ipywidgets.readthedocs.io/en/stable/user_install.html\">Jupyter\n",
       "  Widgets Documentation</a> for setup instructions.\n",
       "</p>\n",
       "<p>\n",
       "  If you're reading this message in another notebook frontend (for example, a static\n",
       "  rendering on GitHub or <a href=\"https://nbviewer.jupyter.org/\">NBViewer</a>),\n",
       "  it may mean that your frontend doesn't currently support widgets.\n",
       "</p>\n"
      ],
      "text/plain": [
       "HBox(children=(IntProgress(value=0, description='Word tokenization:', max=6375575, style=ProgressStyle(description_width='initial')), HTML(value='')))"
      ]
     },
     "metadata": {},
     "output_type": "display_data"
    },
    {
     "data": {
      "application/vnd.jupyter.widget-view+json": {
       "model_id": "6068cd5cc1794341a6c0cb9d1309c5f1",
       "version_major": 2,
       "version_minor": 0
      },
      "text/html": [
       "<p>Failed to display Jupyter Widget of type <code>HBox</code>.</p>\n",
       "<p>\n",
       "  If you're reading this message in Jupyter Notebook or JupyterLab, it may mean\n",
       "  that the widgets JavaScript is still loading. If this message persists, it\n",
       "  likely means that the widgets JavaScript library is either not installed or\n",
       "  not enabled. See the <a href=\"https://ipywidgets.readthedocs.io/en/stable/user_install.html\">Jupyter\n",
       "  Widgets Documentation</a> for setup instructions.\n",
       "</p>\n",
       "<p>\n",
       "  If you're reading this message in another notebook frontend (for example, a static\n",
       "  rendering on GitHub or <a href=\"https://nbviewer.jupyter.org/\">NBViewer</a>),\n",
       "  it may mean that your frontend doesn't currently support widgets.\n",
       "</p>\n"
      ],
      "text/plain": [
       "HBox(children=(IntProgress(value=0, description='Remove alpha and stopwords:', max=3548040, style=ProgressStyle(description_width='initial')), HTML(value='')))"
      ]
     },
     "metadata": {},
     "output_type": "display_data"
    },
    {
     "name": "stderr",
     "output_type": "stream",
     "text": [
      "INFO:root:Preparing vocabulary ints\n",
      "INFO:root:Done in: 151.88\n"
     ]
    }
   ],
   "source": [
    "temp = DataNinjaTokenizer(data_frame=df[:200000], headers=['title', 'description'])"
   ]
  },
  {
   "cell_type": "code",
   "execution_count": 127,
   "metadata": {},
   "outputs": [
    {
     "data": {
      "text/plain": [
       "[('city', 9383),\n",
       " ('rozmiar', 3933),\n",
       " ('rozm', 3059),\n",
       " ('ślubna', 2792),\n",
       " ('nowe', 2667),\n",
       " ('nowa', 2428),\n",
       " ('surname', 2325),\n",
       " ('m', 2261),\n",
       " ('name', 2208),\n",
       " ('sukienka', 2058),\n",
       " ('nowy', 1985),\n",
       " ('kurtka', 1886),\n",
       " ('roz', 1773),\n",
       " ('buty', 1488),\n",
       " ('stan', 1476),\n",
       " ('suknia', 1453),\n",
       " ('firmy', 1428),\n",
       " ('cm', 1388),\n",
       " ('skóra', 1353),\n",
       " ('okazja', 1342)]"
      ]
     },
     "execution_count": 127,
     "metadata": {},
     "output_type": "execute_result"
    }
   ],
   "source": [
    "temp.vocabulary_frequency(headers=['title', 'description'])['title'].most_common(20)"
   ]
  },
  {
   "cell_type": "code",
   "execution_count": 190,
   "metadata": {},
   "outputs": [],
   "source": [
    "import pickle"
   ]
  },
  {
   "cell_type": "code",
   "execution_count": null,
   "metadata": {},
   "outputs": [],
   "source": [
    "filehandler = open(_TOKENIZER_FILEPATH, 'wb')\n",
    "pickle.dump(temp, filehandler)"
   ]
  },
  {
   "cell_type": "code",
   "execution_count": 218,
   "metadata": {},
   "outputs": [],
   "source": [
    "filehandler = open(_TOKENIZER_FILEPATH, 'rb')\n",
    "temp1 = pickle.load(filehandler)"
   ]
  }
 ],
 "metadata": {
  "kernelspec": {
   "display_name": "Python 3",
   "language": "python",
   "name": "python3"
  },
  "language_info": {
   "codemirror_mode": {
    "name": "ipython",
    "version": 3
   },
   "file_extension": ".py",
   "mimetype": "text/x-python",
   "name": "python",
   "nbconvert_exporter": "python",
   "pygments_lexer": "ipython3",
   "version": "3.6.3"
  }
 },
 "nbformat": 4,
 "nbformat_minor": 2
}
