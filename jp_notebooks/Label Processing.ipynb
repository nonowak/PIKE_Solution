{
 "cells": [
  {
   "cell_type": "code",
   "execution_count": 2,
   "metadata": {},
   "outputs": [],
   "source": [
    "import pandas as pd\n",
    "import numpy as np\n",
    "from collections import Counter\n",
    "import swifter\n",
    "from tqdm import tqdm"
   ]
  },
  {
   "cell_type": "code",
   "execution_count": 2,
   "metadata": {},
   "outputs": [],
   "source": [
    "_DATA_FILEPATH = '../data/dataninja2019_ads_train.csv'"
   ]
  },
  {
   "cell_type": "code",
   "execution_count": 3,
   "metadata": {},
   "outputs": [],
   "source": [
    "df = pd.read_csv(_DATA_FILEPATH, usecols=['labels', 'description'])"
   ]
  },
  {
   "cell_type": "code",
   "execution_count": 7,
   "metadata": {},
   "outputs": [],
   "source": [
    "_DATA_FILEPATH = '../data/dtaninja2019_ads_train.csv'\n",
    "    \n",
    "class FrequencyProcessing():\n",
    "\n",
    "    def __init__(self):\n",
    "        self.prepare_all_columns()\n",
    "    \n",
    "    def prepare_all_columns(self):\n",
    "        for column in df:\n",
    "            df[column] = df[column].str.lower().str.split()\n",
    "            df.dropna(inplace=True)\n",
    "            df.reset_index(drop=True, inplace=True)\n",
    "    \n",
    "    def whole_sequences_most_common(self, count):\n",
    "        whole_sentence_labels_list = [item for sublist in df['labels'] for item in sublist]\n",
    "        whole_sentence_labels_count = Counter(whole_sentence_labels_list)\n",
    "        return [key for key, _ in whole_sentence_labels_count.most_common(count)]\n",
    "    \n",
    "    def create_is_in_most_common_column(self, is_in_column, new_column_name, most_common_list):\n",
    "        df[new_column_name] = df[is_in_column].swifter.apply(lambda r: any(item in most_common_list for item in r))\n",
    "        "
   ]
  },
  {
   "cell_type": "code",
   "execution_count": 8,
   "metadata": {},
   "outputs": [],
   "source": [
    "lp = FrequencyProcessing()"
   ]
  },
  {
   "cell_type": "code",
   "execution_count": 9,
   "metadata": {},
   "outputs": [
    {
     "data": {
      "text/html": [
       "<div>\n",
       "<style scoped>\n",
       "    .dataframe tbody tr th:only-of-type {\n",
       "        vertical-align: middle;\n",
       "    }\n",
       "\n",
       "    .dataframe tbody tr th {\n",
       "        vertical-align: top;\n",
       "    }\n",
       "\n",
       "    .dataframe thead th {\n",
       "        text-align: right;\n",
       "    }\n",
       "</style>\n",
       "<table border=\"1\" class=\"dataframe\">\n",
       "  <thead>\n",
       "    <tr style=\"text-align: right;\">\n",
       "      <th></th>\n",
       "      <th>description</th>\n",
       "      <th>labels</th>\n",
       "    </tr>\n",
       "  </thead>\n",
       "  <tbody>\n",
       "    <tr>\n",
       "      <th>0</th>\n",
       "      <td>[nawiąże, współpracę, z, odbiorcami, płynów, e...</td>\n",
       "      <td>[glikol_koncentrat, wspolpraca, koncentrat_do_...</td>\n",
       "    </tr>\n",
       "    <tr>\n",
       "      <th>1</th>\n",
       "      <td>[bartes, świadczy, usługi, w, obejmujące, budo...</td>\n",
       "      <td>[kuchnia_gazowa, gazowe, przylacza_gazowe, prz...</td>\n",
       "    </tr>\n",
       "    <tr>\n",
       "      <th>2</th>\n",
       "      <td>[kuferek, drewniany, z, paletami, na, 200, mon...</td>\n",
       "      <td>[palety_drewniane]</td>\n",
       "    </tr>\n",
       "    <tr>\n",
       "      <th>3</th>\n",
       "      <td>[drobne, i, kompleksowe, remonty, mieszkań, ,,...</td>\n",
       "      <td>[remont_mieszkania, remont_lazienki, budowa_do...</td>\n",
       "    </tr>\n",
       "    <tr>\n",
       "      <th>4</th>\n",
       "      <td>[samochody, (osobowe,, dostawcze,, ciężarowe,,...</td>\n",
       "      <td>[karcher, ozonowanie, czyszczenie]</td>\n",
       "    </tr>\n",
       "  </tbody>\n",
       "</table>\n",
       "</div>"
      ],
      "text/plain": [
       "                                         description  \\\n",
       "0  [nawiąże, współpracę, z, odbiorcami, płynów, e...   \n",
       "1  [bartes, świadczy, usługi, w, obejmujące, budo...   \n",
       "2  [kuferek, drewniany, z, paletami, na, 200, mon...   \n",
       "3  [drobne, i, kompleksowe, remonty, mieszkań, ,,...   \n",
       "4  [samochody, (osobowe,, dostawcze,, ciężarowe,,...   \n",
       "\n",
       "                                              labels  \n",
       "0  [glikol_koncentrat, wspolpraca, koncentrat_do_...  \n",
       "1  [kuchnia_gazowa, gazowe, przylacza_gazowe, prz...  \n",
       "2                                 [palety_drewniane]  \n",
       "3  [remont_mieszkania, remont_lazienki, budowa_do...  \n",
       "4                 [karcher, ozonowanie, czyszczenie]  "
      ]
     },
     "execution_count": 9,
     "metadata": {},
     "output_type": "execute_result"
    }
   ],
   "source": [
    "df.head()"
   ]
  },
  {
   "cell_type": "code",
   "execution_count": 10,
   "metadata": {},
   "outputs": [],
   "source": [
    "most_common_1000 = lp.whole_sequences_most_common(1000)"
   ]
  },
  {
   "cell_type": "code",
   "execution_count": null,
   "metadata": {
    "scrolled": true
   },
   "outputs": [],
   "source": [
    "most_common_1000"
   ]
  },
  {
   "cell_type": "code",
   "execution_count": 14,
   "metadata": {},
   "outputs": [
    {
     "name": "stderr",
     "output_type": "stream",
     "text": [
      "Pandas Apply: 100%|██████████| 5021780/5021780 [01:46<00:00, 47022.06it/s]\n"
     ]
    }
   ],
   "source": [
    " lp.create_is_in_most_common_column(is_in_column='labels',\n",
    "                                    new_column_name='is_label_in_1000_most_common',\n",
    "                                    most_common_list=most_common_1000)"
   ]
  },
  {
   "cell_type": "code",
   "execution_count": 12,
   "metadata": {},
   "outputs": [
    {
     "name": "stderr",
     "output_type": "stream",
     "text": [
      "Pandas Apply: 100%|██████████| 5021780/5021780 [13:41<00:00, 6112.28it/s]\n"
     ]
    }
   ],
   "source": [
    " lp.create_is_in_most_common_column(is_in_column='description',\n",
    "                                    new_column_name='is_description_in_1000_most_common',\n",
    "                                    most_common_list=most_common_1000)"
   ]
  },
  {
   "cell_type": "code",
   "execution_count": 15,
   "metadata": {},
   "outputs": [],
   "source": [
    "most_common_5000 = lp.whole_sequences_most_common(5000)"
   ]
  },
  {
   "cell_type": "code",
   "execution_count": 16,
   "metadata": {},
   "outputs": [
    {
     "name": "stderr",
     "output_type": "stream",
     "text": [
      "Pandas Apply: 100%|██████████| 5021780/5021780 [06:41<00:00, 12494.30it/s]\n"
     ]
    }
   ],
   "source": [
    " lp.create_is_in_most_common_column(is_in_column='labels',\n",
    "                                    new_column_name='is_label_in_5000_most_common',\n",
    "                                    most_common_list=most_common_5000)"
   ]
  },
  {
   "cell_type": "code",
   "execution_count": 17,
   "metadata": {},
   "outputs": [
    {
     "name": "stderr",
     "output_type": "stream",
     "text": [
      "Pandas Apply: 100%|██████████| 5021780/5021780 [42:39<00:00, 1961.83it/s] \n"
     ]
    }
   ],
   "source": [
    " lp.create_is_in_most_common_column(is_in_column='description',\n",
    "                                    new_column_name='is_description_in_5000_most_common',\n",
    "                                    most_common_list=most_common_5000)"
   ]
  },
  {
   "cell_type": "code",
   "execution_count": 18,
   "metadata": {},
   "outputs": [],
   "source": [
    "most_common_2000 = lp.whole_sequences_most_common(2000)"
   ]
  },
  {
   "cell_type": "code",
   "execution_count": 19,
   "metadata": {},
   "outputs": [
    {
     "name": "stderr",
     "output_type": "stream",
     "text": [
      "Pandas Apply: 100%|██████████| 5021780/5021780 [03:18<00:00, 25348.18it/s]\n"
     ]
    }
   ],
   "source": [
    " lp.create_is_in_most_common_column(is_in_column='labels',\n",
    "                                    new_column_name='is_label_in_2000_most_common',\n",
    "                                    most_common_list=most_common_2000)"
   ]
  },
  {
   "cell_type": "code",
   "execution_count": 20,
   "metadata": {},
   "outputs": [
    {
     "name": "stderr",
     "output_type": "stream",
     "text": [
      "Pandas Apply: 100%|██████████| 5021780/5021780 [42:46<00:00, 1956.90it/s] \n"
     ]
    }
   ],
   "source": [
    " lp.create_is_in_most_common_column(is_in_column='description',\n",
    "                                    new_column_name='is_description_in_5000_most_common',\n",
    "                                    most_common_list=most_common_5000)"
   ]
  },
  {
   "cell_type": "code",
   "execution_count": 21,
   "metadata": {},
   "outputs": [
    {
     "data": {
      "text/html": [
       "<div>\n",
       "<style scoped>\n",
       "    .dataframe tbody tr th:only-of-type {\n",
       "        vertical-align: middle;\n",
       "    }\n",
       "\n",
       "    .dataframe tbody tr th {\n",
       "        vertical-align: top;\n",
       "    }\n",
       "\n",
       "    .dataframe thead th {\n",
       "        text-align: right;\n",
       "    }\n",
       "</style>\n",
       "<table border=\"1\" class=\"dataframe\">\n",
       "  <thead>\n",
       "    <tr style=\"text-align: right;\">\n",
       "      <th></th>\n",
       "      <th>description</th>\n",
       "      <th>labels</th>\n",
       "      <th>is_description_in_1000_most_common</th>\n",
       "      <th>is_label_in_1000_most_common</th>\n",
       "      <th>is_label_in_5000_most_common</th>\n",
       "      <th>is_description_in_5000_most_common</th>\n",
       "      <th>is_label_in_2000_most_common</th>\n",
       "    </tr>\n",
       "  </thead>\n",
       "  <tbody>\n",
       "    <tr>\n",
       "      <th>0</th>\n",
       "      <td>[nawiąże, współpracę, z, odbiorcami, płynów, e...</td>\n",
       "      <td>[glikol_koncentrat, wspolpraca, koncentrat_do_...</td>\n",
       "      <td>False</td>\n",
       "      <td>False</td>\n",
       "      <td>True</td>\n",
       "      <td>True</td>\n",
       "      <td>True</td>\n",
       "    </tr>\n",
       "    <tr>\n",
       "      <th>1</th>\n",
       "      <td>[bartes, świadczy, usługi, w, obejmujące, budo...</td>\n",
       "      <td>[kuchnia_gazowa, gazowe, przylacza_gazowe, prz...</td>\n",
       "      <td>False</td>\n",
       "      <td>False</td>\n",
       "      <td>True</td>\n",
       "      <td>False</td>\n",
       "      <td>False</td>\n",
       "    </tr>\n",
       "    <tr>\n",
       "      <th>2</th>\n",
       "      <td>[kuferek, drewniany, z, paletami, na, 200, mon...</td>\n",
       "      <td>[palety_drewniane]</td>\n",
       "      <td>False</td>\n",
       "      <td>False</td>\n",
       "      <td>False</td>\n",
       "      <td>True</td>\n",
       "      <td>False</td>\n",
       "    </tr>\n",
       "    <tr>\n",
       "      <th>3</th>\n",
       "      <td>[drobne, i, kompleksowe, remonty, mieszkań, ,,...</td>\n",
       "      <td>[remont_mieszkania, remont_lazienki, budowa_do...</td>\n",
       "      <td>True</td>\n",
       "      <td>False</td>\n",
       "      <td>True</td>\n",
       "      <td>True</td>\n",
       "      <td>False</td>\n",
       "    </tr>\n",
       "    <tr>\n",
       "      <th>4</th>\n",
       "      <td>[samochody, (osobowe,, dostawcze,, ciężarowe,,...</td>\n",
       "      <td>[karcher, ozonowanie, czyszczenie]</td>\n",
       "      <td>True</td>\n",
       "      <td>True</td>\n",
       "      <td>True</td>\n",
       "      <td>True</td>\n",
       "      <td>True</td>\n",
       "    </tr>\n",
       "  </tbody>\n",
       "</table>\n",
       "</div>"
      ],
      "text/plain": [
       "                                         description  \\\n",
       "0  [nawiąże, współpracę, z, odbiorcami, płynów, e...   \n",
       "1  [bartes, świadczy, usługi, w, obejmujące, budo...   \n",
       "2  [kuferek, drewniany, z, paletami, na, 200, mon...   \n",
       "3  [drobne, i, kompleksowe, remonty, mieszkań, ,,...   \n",
       "4  [samochody, (osobowe,, dostawcze,, ciężarowe,,...   \n",
       "\n",
       "                                              labels  \\\n",
       "0  [glikol_koncentrat, wspolpraca, koncentrat_do_...   \n",
       "1  [kuchnia_gazowa, gazowe, przylacza_gazowe, prz...   \n",
       "2                                 [palety_drewniane]   \n",
       "3  [remont_mieszkania, remont_lazienki, budowa_do...   \n",
       "4                 [karcher, ozonowanie, czyszczenie]   \n",
       "\n",
       "   is_description_in_1000_most_common  is_label_in_1000_most_common  \\\n",
       "0                               False                         False   \n",
       "1                               False                         False   \n",
       "2                               False                         False   \n",
       "3                                True                         False   \n",
       "4                                True                          True   \n",
       "\n",
       "   is_label_in_5000_most_common  is_description_in_5000_most_common  \\\n",
       "0                          True                                True   \n",
       "1                          True                               False   \n",
       "2                         False                                True   \n",
       "3                          True                                True   \n",
       "4                          True                                True   \n",
       "\n",
       "   is_label_in_2000_most_common  \n",
       "0                          True  \n",
       "1                         False  \n",
       "2                         False  \n",
       "3                         False  \n",
       "4                          True  "
      ]
     },
     "execution_count": 21,
     "metadata": {},
     "output_type": "execute_result"
    }
   ],
   "source": [
    "df.head()"
   ]
  },
  {
   "cell_type": "code",
   "execution_count": 22,
   "metadata": {},
   "outputs": [],
   "source": [
    "df.to_csv( '../data/mostCommon.csv')"
   ]
  },
  {
   "cell_type": "code",
   "execution_count": 3,
   "metadata": {},
   "outputs": [],
   "source": [
    "df = pd.read_csv('../data/mostCommon.csv')"
   ]
  },
  {
   "cell_type": "code",
   "execution_count": null,
   "metadata": {},
   "outputs": [],
   "source": []
  }
 ],
 "metadata": {
  "kernelspec": {
   "display_name": "Python 3",
   "language": "python",
   "name": "python3"
  },
  "language_info": {
   "codemirror_mode": {
    "name": "ipython",
    "version": 3
   },
   "file_extension": ".py",
   "mimetype": "text/x-python",
   "name": "python",
   "nbconvert_exporter": "python",
   "pygments_lexer": "ipython3",
   "version": "3.7.1"
  }
 },
 "nbformat": 4,
 "nbformat_minor": 2
}
