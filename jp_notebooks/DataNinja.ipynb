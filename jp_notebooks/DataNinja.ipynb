{
 "cells": [
  {
   "cell_type": "code",
   "execution_count": 1,
   "metadata": {},
   "outputs": [],
   "source": [
    "import pandas as pd\n",
    "from collections import Counter\n",
    "import nltk"
   ]
  },
  {
   "cell_type": "code",
   "execution_count": 178,
   "metadata": {},
   "outputs": [],
   "source": [
    "_DATA_FILEPATH = '../data/dataninja2019_ads_train.csv'\n",
    "_POLISH_STOPWORDS_FILEPATH = \"../src/polish_stopwords.txt\"\n",
    "_TOKENIZER_FILEPATH = '../src/dataNinjaTokenizer.txt'"
   ]
  },
  {
   "cell_type": "code",
   "execution_count": 3,
   "metadata": {},
   "outputs": [],
   "source": [
    "df = pd.read_csv(_DATA_FILEPATH)"
   ]
  },
  {
   "cell_type": "code",
   "execution_count": 4,
   "metadata": {},
   "outputs": [
    {
     "data": {
      "text/html": [
       "<div>\n",
       "<style scoped>\n",
       "    .dataframe tbody tr th:only-of-type {\n",
       "        vertical-align: middle;\n",
       "    }\n",
       "\n",
       "    .dataframe tbody tr th {\n",
       "        vertical-align: top;\n",
       "    }\n",
       "\n",
       "    .dataframe thead th {\n",
       "        text-align: right;\n",
       "    }\n",
       "</style>\n",
       "<table border=\"1\" class=\"dataframe\">\n",
       "  <thead>\n",
       "    <tr style=\"text-align: right;\">\n",
       "      <th></th>\n",
       "      <th>id</th>\n",
       "      <th>title</th>\n",
       "      <th>description</th>\n",
       "      <th>category_id</th>\n",
       "      <th>region_id</th>\n",
       "      <th>subregion_id</th>\n",
       "      <th>city_id</th>\n",
       "      <th>district_id</th>\n",
       "      <th>params</th>\n",
       "      <th>created_at</th>\n",
       "      <th>labels</th>\n",
       "    </tr>\n",
       "  </thead>\n",
       "  <tbody>\n",
       "    <tr>\n",
       "      <th>0</th>\n",
       "      <td>1432081133</td>\n",
       "      <td>GLIKOL Płyn Chłodniczy Koncentrat Centra. Ogrz...</td>\n",
       "      <td>Nawiąże współpracę z odbiorcami płynów eksploa...</td>\n",
       "      <td>168</td>\n",
       "      <td>13</td>\n",
       "      <td>88</td>\n",
       "      <td>1104129800</td>\n",
       "      <td>NaN</td>\n",
       "      <td>NaN</td>\n",
       "      <td>2012-05-20 23:26:34</td>\n",
       "      <td>glikol_koncentrat wspolpraca koncentrat_do_chl...</td>\n",
       "    </tr>\n",
       "    <tr>\n",
       "      <th>1</th>\n",
       "      <td>671872279</td>\n",
       "      <td>Instalacje Gazowe/Przyłącza Gazowe/Sieci gazow...</td>\n",
       "      <td>BARTES świadczy usługi w obejmujące budowę pro...</td>\n",
       "      <td>306</td>\n",
       "      <td>7</td>\n",
       "      <td>136</td>\n",
       "      <td>284937915</td>\n",
       "      <td>1.285174e+09</td>\n",
       "      <td>NaN</td>\n",
       "      <td>2012-06-28 09:00:20</td>\n",
       "      <td>kuchnia_gazowa gazowe przylacza_gazowe przylac...</td>\n",
       "    </tr>\n",
       "    <tr>\n",
       "      <th>2</th>\n",
       "      <td>778099925</td>\n",
       "      <td>Elegancki kuferek drewniany + 5 palet na 2 zł ...</td>\n",
       "      <td>Kuferek drewniany z paletami na 200 monet 2 zł...</td>\n",
       "      <td>431</td>\n",
       "      <td>11</td>\n",
       "      <td>260</td>\n",
       "      <td>405646303</td>\n",
       "      <td>6.764402e+07</td>\n",
       "      <td>price&lt;=&gt;price&lt;br&gt;price&lt;=&gt;120</td>\n",
       "      <td>2012-07-09 07:40:37</td>\n",
       "      <td>palety_drewniane</td>\n",
       "    </tr>\n",
       "    <tr>\n",
       "      <th>3</th>\n",
       "      <td>1610095002</td>\n",
       "      <td>Remont łazienki, remont mieszkania, domów, lok...</td>\n",
       "      <td>DROBNE I KOMPLEKSOWE REMONTY MIESZKAŃ , BIUR ,...</td>\n",
       "      <td>306</td>\n",
       "      <td>6</td>\n",
       "      <td>48</td>\n",
       "      <td>689879597</td>\n",
       "      <td>8.987401e+08</td>\n",
       "      <td>NaN</td>\n",
       "      <td>2012-06-27 03:55:33</td>\n",
       "      <td>remont_mieszkania remont_lazienki budowa_domow</td>\n",
       "    </tr>\n",
       "    <tr>\n",
       "      <th>4</th>\n",
       "      <td>1884757810</td>\n",
       "      <td>Karcher Profesjonalne Pranie i czyszczenie, oz...</td>\n",
       "      <td>SAMOCHODY (osobowe, dostawcze, ciężarowe, przy...</td>\n",
       "      <td>354</td>\n",
       "      <td>1</td>\n",
       "      <td>259</td>\n",
       "      <td>1797088492</td>\n",
       "      <td>NaN</td>\n",
       "      <td>NaN</td>\n",
       "      <td>2012-07-04 14:43:56</td>\n",
       "      <td>karcher ozonowanie czyszczenie</td>\n",
       "    </tr>\n",
       "  </tbody>\n",
       "</table>\n",
       "</div>"
      ],
      "text/plain": [
       "           id                                              title  \\\n",
       "0  1432081133  GLIKOL Płyn Chłodniczy Koncentrat Centra. Ogrz...   \n",
       "1   671872279  Instalacje Gazowe/Przyłącza Gazowe/Sieci gazow...   \n",
       "2   778099925  Elegancki kuferek drewniany + 5 palet na 2 zł ...   \n",
       "3  1610095002  Remont łazienki, remont mieszkania, domów, lok...   \n",
       "4  1884757810  Karcher Profesjonalne Pranie i czyszczenie, oz...   \n",
       "\n",
       "                                         description  category_id  region_id  \\\n",
       "0  Nawiąże współpracę z odbiorcami płynów eksploa...          168         13   \n",
       "1  BARTES świadczy usługi w obejmujące budowę pro...          306          7   \n",
       "2  Kuferek drewniany z paletami na 200 monet 2 zł...          431         11   \n",
       "3  DROBNE I KOMPLEKSOWE REMONTY MIESZKAŃ , BIUR ,...          306          6   \n",
       "4  SAMOCHODY (osobowe, dostawcze, ciężarowe, przy...          354          1   \n",
       "\n",
       "   subregion_id     city_id   district_id                        params  \\\n",
       "0            88  1104129800           NaN                           NaN   \n",
       "1           136   284937915  1.285174e+09                           NaN   \n",
       "2           260   405646303  6.764402e+07  price<=>price<br>price<=>120   \n",
       "3            48   689879597  8.987401e+08                           NaN   \n",
       "4           259  1797088492           NaN                           NaN   \n",
       "\n",
       "            created_at                                             labels  \n",
       "0  2012-05-20 23:26:34  glikol_koncentrat wspolpraca koncentrat_do_chl...  \n",
       "1  2012-06-28 09:00:20  kuchnia_gazowa gazowe przylacza_gazowe przylac...  \n",
       "2  2012-07-09 07:40:37                                   palety_drewniane  \n",
       "3  2012-06-27 03:55:33     remont_mieszkania remont_lazienki budowa_domow  \n",
       "4  2012-07-04 14:43:56                     karcher ozonowanie czyszczenie  "
      ]
     },
     "execution_count": 4,
     "metadata": {},
     "output_type": "execute_result"
    }
   ],
   "source": [
    "df.head()"
   ]
  },
  {
   "cell_type": "code",
   "execution_count": 228,
   "metadata": {},
   "outputs": [],
   "source": [
    "class DataNinjaTokenizer:\n",
    "    stopwords = open(_POLISH_STOPWORDS_FILEPATH).read().split(\"\\n\")\n",
    "    \n",
    "    def __init__(self, series=None, data_frame=None, headers=None):\n",
    "        assert not (series is None and data_frame is None), \"Cannot parse both series and data_frame\"\n",
    "        if(series is not None):\n",
    "            self.__vocabulary = self.parse_series_into_words(series)\n",
    "        if(data_frame is not None):\n",
    "            assert headers is not None, \"Headers are required to tokenize data_frame\"\n",
    "            self.__vocabulary = []\n",
    "            for header in headers:\n",
    "                self.__vocabulary += self.parse_series_into_words(data_frame[header])\n",
    "        self.prepare_vocabulary_frequency()\n",
    "        self.prepare_vocabulary_ints()\n",
    "    \n",
    "    def parse_series_into_words(self, series):\n",
    "        words = nltk.word_tokenize(series.str.cat(sep=' '), language=\"polish\")\n",
    "        return [word.lower() for word in words if word.isalpha() and word.lower() not in self.stopwords]\n",
    "\n",
    "    def prepare_vocabulary_frequency(self):\n",
    "        assert self.__vocabulary is not None, \"Vocabulary cannot be none\"\n",
    "        self.__counts = Counter(self.__vocabulary)\n",
    "                \n",
    "    def prepare_vocabulary_ints(self):\n",
    "        self.__vocabulary_ints = {tup:i for i, tup in enumerate(set(self.__vocabulary))}\n",
    "            \n",
    "    @property\n",
    "    def vocabulary_frequency(self):\n",
    "        return self.__counts\n",
    "            \n",
    "    @property\n",
    "    def vocabulary(self):\n",
    "        return self.__vocabulary\n",
    "    \n",
    "    @property\n",
    "    def vocabulary_ints(self):      \n",
    "        return self.__vocabulary_ints"
   ]
  },
  {
   "cell_type": "code",
   "execution_count": 231,
   "metadata": {},
   "outputs": [],
   "source": [
    "temp = DataNinjaTokenizer(series=df['title'][:100])"
   ]
  },
  {
   "cell_type": "code",
   "execution_count": 234,
   "metadata": {},
   "outputs": [],
   "source": [
    "temp = DataNinjaTokenizer(data_frame=df, headers=['title', 'description'])"
   ]
  },
  {
   "cell_type": "code",
   "execution_count": 233,
   "metadata": {},
   "outputs": [
    {
     "data": {
      "text/plain": [
       "[('city', 8),\n",
       " ('nowy', 5),\n",
       " ('usługi', 3),\n",
       " ('drewno', 3),\n",
       " ('spodnie', 3),\n",
       " ('wykończenia', 3),\n",
       " ('wnętrz', 3),\n",
       " ('nowe', 3),\n",
       " ('nowa', 3),\n",
       " ('pokoje', 3),\n",
       " ('chłodnica', 2),\n",
       " ('instalacje', 2),\n",
       " ('remont', 2),\n",
       " ('łazienki', 2),\n",
       " ('profesjonalne', 2)]"
      ]
     },
     "execution_count": 233,
     "metadata": {},
     "output_type": "execute_result"
    }
   ],
   "source": [
    "temp.vocabulary_frequency.most_common(15)"
   ]
  },
  {
   "cell_type": "code",
   "execution_count": 226,
   "metadata": {},
   "outputs": [
    {
     "data": {
      "text/plain": [
       "423432"
      ]
     },
     "execution_count": 226,
     "metadata": {},
     "output_type": "execute_result"
    }
   ],
   "source": [
    "len(temp.vocabulary_ints)"
   ]
  },
  {
   "cell_type": "code",
   "execution_count": 222,
   "metadata": {},
   "outputs": [
    {
     "data": {
      "text/plain": [
       "2246506"
      ]
     },
     "execution_count": 222,
     "metadata": {},
     "output_type": "execute_result"
    }
   ],
   "source": [
    "len(temp.vocabulary)"
   ]
  },
  {
   "cell_type": "code",
   "execution_count": 190,
   "metadata": {},
   "outputs": [],
   "source": [
    "import pickle"
   ]
  },
  {
   "cell_type": "code",
   "execution_count": null,
   "metadata": {},
   "outputs": [],
   "source": [
    "filehandler = open(_TOKENIZER_FILEPATH, 'wb')\n",
    "pickle.dump(temp, filehandler)"
   ]
  },
  {
   "cell_type": "code",
   "execution_count": 218,
   "metadata": {},
   "outputs": [],
   "source": [
    "filehandler = open(_TOKENIZER_FILEPATH, 'rb')\n",
    "temp1 = pickle.load(filehandler)"
   ]
  },
  {
   "cell_type": "code",
   "execution_count": 220,
   "metadata": {},
   "outputs": [
    {
     "data": {
      "text/plain": [
       "146835"
      ]
     },
     "execution_count": 220,
     "metadata": {},
     "output_type": "execute_result"
    }
   ],
   "source": [
    "len(temp.vocabulary_ints)"
   ]
  },
  {
   "cell_type": "code",
   "execution_count": 223,
   "metadata": {},
   "outputs": [
    {
     "data": {
      "text/plain": [
       "2246506"
      ]
     },
     "execution_count": 223,
     "metadata": {},
     "output_type": "execute_result"
    }
   ],
   "source": [
    "len(temp.vocabulary)"
   ]
  },
  {
   "cell_type": "code",
   "execution_count": null,
   "metadata": {},
   "outputs": [],
   "source": []
  }
 ],
 "metadata": {
  "kernelspec": {
   "display_name": "Python 3",
   "language": "python",
   "name": "python3"
  },
  "language_info": {
   "codemirror_mode": {
    "name": "ipython",
    "version": 3
   },
   "file_extension": ".py",
   "mimetype": "text/x-python",
   "name": "python",
   "nbconvert_exporter": "python",
   "pygments_lexer": "ipython3",
   "version": "3.7.1"
  }
 },
 "nbformat": 4,
 "nbformat_minor": 2
}
